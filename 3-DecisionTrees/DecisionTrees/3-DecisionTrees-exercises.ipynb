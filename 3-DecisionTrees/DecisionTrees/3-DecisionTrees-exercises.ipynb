{
 "cells": [
  {
   "cell_type": "markdown",
   "id": "8cabbe93",
   "metadata": {},
   "source": [
    "## 3 DECISIONTREES/DECISIONTREES/DECISIONTREES DECISIONTREES 4 EXERCISE  ##\n",
    "#### Exercise ####\n",
    "#### Please refer to module 2 of DecisionTrees - DecisionTrees for Tasks 1-6\n",
    "#### Task 1\n",
    "##### Import the required packages\n",
    "##### Set the working directory (home_dir, main_dir, data_dir, plot_dir)\n",
    "#### Result:\n"
   ]
  },
  {
   "cell_type": "code",
   "execution_count": null,
   "id": "438ba28f",
   "metadata": {},
   "outputs": [],
   "source": []
  },
  {
   "cell_type": "markdown",
   "id": "11262231",
   "metadata": {},
   "source": [
    "#### Task 2\n",
    "##### Read the dataset `heart_failure_clinical_records_dataset.csv` as `ex_df`\n",
    "##### Subset the dataframe to include only numeric and categorical columns\n",
    "##### Delete columns containing either 65% or more than 65% NaN Values\n",
    "##### Write a function to impute NA in both numeric and categorical columns\n",
    "#### Result:\n"
   ]
  },
  {
   "cell_type": "code",
   "execution_count": null,
   "id": "f9d80a6f",
   "metadata": {},
   "outputs": [],
   "source": []
  },
  {
   "cell_type": "markdown",
   "id": "19dd72e1",
   "metadata": {},
   "source": [
    "#### Task 3\n",
    "##### Identify the the two unique classes\n",
    "#### Result:\n"
   ]
  },
  {
   "cell_type": "code",
   "execution_count": null,
   "id": "e52e1a86",
   "metadata": {},
   "outputs": [],
   "source": []
  },
  {
   "cell_type": "markdown",
   "id": "4451a79c",
   "metadata": {},
   "source": [
    "#### Task 4\n",
    "##### \n",
    "##### Split the data into ex_X and ex_y\n",
    "#### Result:\n"
   ]
  },
  {
   "cell_type": "code",
   "execution_count": null,
   "id": "ec7fd091",
   "metadata": {},
   "outputs": [],
   "source": []
  },
  {
   "cell_type": "markdown",
   "id": "089af538",
   "metadata": {},
   "source": [
    "#### Task 5\n",
    "##### Implement the Decision Tree and print it.\n",
    "##### Visualize `clf_fit_small`\n",
    "##### Split into train and test.\n",
    "#### Result:\n"
   ]
  },
  {
   "cell_type": "code",
   "execution_count": null,
   "id": "211110c8",
   "metadata": {},
   "outputs": [],
   "source": []
  },
  {
   "cell_type": "markdown",
   "id": "1360a975",
   "metadata": {},
   "source": [
    "#### Task 6\n",
    "##### Implement the Decision Tree on ex_X_train\n",
    "##### Predict on ex_X_test\n",
    "#### Result:\n"
   ]
  },
  {
   "cell_type": "code",
   "execution_count": null,
   "id": "dd3cc9c0",
   "metadata": {},
   "outputs": [],
   "source": []
  },
  {
   "cell_type": "markdown",
   "id": "bb5f71e6",
   "metadata": {},
   "source": [
    "#### Please refer to module 3 of DecisionTrees - DecisionTrees for Task 7\n",
    "#### Task 7\n",
    "##### Compute test model accuracy score.\n",
    "##### Compute accuracy using training data.\n",
    "##### Calculate cv scores (accuracy) and print them.\n",
    "#### Result:\n"
   ]
  },
  {
   "cell_type": "code",
   "execution_count": null,
   "id": "374cccba",
   "metadata": {},
   "outputs": [],
   "source": []
  },
  {
   "cell_type": "markdown",
   "id": "f844229c",
   "metadata": {},
   "source": [
    "#### Please refer to module 4 of DecisionTrees - DecisionTrees for Tasks 8-12\n",
    "#### Task 8\n",
    "##### Define function that will determine the optimal number for each parameter.\n",
    "##### Optimize: max_depth\n",
    "#### Result:\n"
   ]
  },
  {
   "cell_type": "code",
   "execution_count": null,
   "id": "30f7b21a",
   "metadata": {},
   "outputs": [],
   "source": []
  },
  {
   "cell_type": "markdown",
   "id": "8368da41",
   "metadata": {},
   "source": [
    "#### Task 9\n",
    "##### Optimize: min samples split\n",
    "#### Result:\n"
   ]
  },
  {
   "cell_type": "code",
   "execution_count": null,
   "id": "bac90f6e",
   "metadata": {},
   "outputs": [],
   "source": []
  },
  {
   "cell_type": "markdown",
   "id": "95bba230",
   "metadata": {},
   "source": [
    "#### Task 10\n",
    "##### Optimize: Min_samples_leaf \n",
    "##### Optimize: max features\n",
    "#### Result:\n"
   ]
  },
  {
   "cell_type": "code",
   "execution_count": null,
   "id": "5fe59d5d",
   "metadata": {},
   "outputs": [],
   "source": []
  },
  {
   "cell_type": "markdown",
   "id": "dcb4d3b7",
   "metadata": {},
   "source": [
    "#### Task 11\n",
    "##### Print: ex_optimal_max_depth,ex_optimal_min_samples_split, ex_optimal_min_samples_split, ex_optimal_max_features\n",
    "#### Result:\n"
   ]
  },
  {
   "cell_type": "code",
   "execution_count": null,
   "id": "6d9f0462",
   "metadata": {},
   "outputs": [],
   "source": []
  },
  {
   "cell_type": "markdown",
   "id": "ef579e5f",
   "metadata": {},
   "source": [
    "#### Task 12\n",
    "##### Set the seed.\n",
    "##### Build Decision Tree classifier with optimized values calculated above\n",
    "##### Compute accuracy of the optimized model using training data\n",
    "#### Result:\n"
   ]
  },
  {
   "cell_type": "code",
   "execution_count": null,
   "id": "685c035b",
   "metadata": {},
   "outputs": [],
   "source": []
  }
 ],
 "metadata": {
  "language": "python"
 },
 "nbformat": 4,
 "nbformat_minor": 5
}
