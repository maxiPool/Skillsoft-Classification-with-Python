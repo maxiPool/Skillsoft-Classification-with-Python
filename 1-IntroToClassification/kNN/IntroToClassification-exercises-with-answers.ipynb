{
 "cells": [
  {
   "cell_type": "markdown",
   "id": "9f827bf1",
   "metadata": {},
   "source": [
    "## 1 INTROTOCLASSIFICATION/KNN/INTROTOCLASSIFICATION KNN 5 EXERCISE ANSWERS ##\n",
    "#### Exercise ####\n",
    "#### Please refer to module 2 of IntroToClassification - kNN for Tasks 1-8\n",
    "#### Task 1\n",
    "##### Import the required packages.\n",
    "##### Set the working directory to data directory.\n",
    "##### Print the working directory.\n",
    "#### Result:\n"
   ]
  },
  {
   "cell_type": "code",
   "id": "fbc7ab08",
   "metadata": {
    "ExecuteTime": {
     "end_time": "2024-12-11T16:07:49.362365Z",
     "start_time": "2024-12-11T16:07:49.336365Z"
    }
   },
   "source": [
    "import os\n",
    "import pandas as pd\n",
    "import numpy as np\n",
    "import matplotlib.pyplot as plt\n",
    "import pickle\n",
    "from sklearn.model_selection import train_test_split\n",
    "from sklearn.neighbors import KNeighborsClassifier\n",
    "from sklearn.preprocessing import scale,StandardScaler\n",
    "from sklearn.pipeline import Pipeline\n",
    "from sklearn.model_selection import cross_val_score\n",
    "from sklearn.model_selection import GridSearchCV\n",
    "from sklearn.metrics import accuracy_score, classification_report, confusion_matrix\n",
    "from sklearn import metrics\n",
    "from pathlib import Path\n",
    "# Set 'main_dir' to location of the project folder\n",
    "home_dir = Path(\".\").resolve()\n",
    "main_dir = home_dir.parent.parent\n",
    "print(main_dir)\n",
    "data_dir = str(main_dir) + \"\\\\data\"\n",
    "print(data_dir)\n"
   ],
   "outputs": [
    {
     "name": "stdout",
     "output_type": "stream",
     "text": [
      "C:\\Users\\Max\\Downloads\\Classification-with-Python-main\n",
      "C:\\Users\\Max\\Downloads\\Classification-with-Python-main\\data\n"
     ]
    }
   ],
   "execution_count": 16
  },
  {
   "cell_type": "markdown",
   "id": "dbfc9db8",
   "metadata": {},
   "source": [
    "#### Task 2\n",
    "##### Read in our dataset called `'heart_failure_clinical_records_dataset.csv'`. Save it as `ex_data`.\n",
    "##### Print the head of `ex_data`.\n",
    "##### Print the type and length of `ex_data`.\n",
    "##### Save the shape of the dataset into two variables `ex_nrow` and `ex_ncol` and print them.\n",
    "##### Subset the dataframe to include only numeric and categorical columns.\n",
    "#### Result:\n"
   ]
  },
  {
   "cell_type": "code",
   "id": "bee1fff1",
   "metadata": {
    "ExecuteTime": {
     "end_time": "2024-12-11T16:07:49.490365Z",
     "start_time": "2024-12-11T16:07:49.456381Z"
    }
   },
   "source": [
    "ex_data = pd.read_csv(str(data_dir)+\"/\"+ 'heart_failure_clinical_records_dataset.csv')\n",
    "print(ex_data.head())\n",
    "print(type(ex_data))\n",
    "print(len(ex_data))\n",
    "ex_nrows, ex_ncols = ex_data.shape\n",
    "print(ex_nrows)\n",
    "print(ex_ncols)\n",
    "# Subset data\n",
    "ex_data = ex_data[['age', 'serum_sodium', 'time', 'platelets', 'ejection_fraction', 'serum_creatinine', 'creatinine_phosphokinase', 'anaemia', 'high_blood_pressure', 'smoking', 'sex', 'diabetes', 'death_event', 'id']]\n"
   ],
   "outputs": [
    {
     "name": "stdout",
     "output_type": "stream",
     "text": [
      "    age  anaemia  creatinine_phosphokinase  diabetes  ejection_fraction  \\\n",
      "0  75.0        0                       582         0                 20   \n",
      "1  55.0        0                      7861         0                 38   \n",
      "2  65.0        0                       146         0                 20   \n",
      "3  50.0        1                       111         0                 20   \n",
      "4  65.0        1                       160         1                 20   \n",
      "\n",
      "   high_blood_pressure  platelets  serum_creatinine  serum_sodium  sex  \\\n",
      "0                    1  265000.00               1.9           130    1   \n",
      "1                    0  263358.03               1.1           136    1   \n",
      "2                    0  162000.00               1.3           129    1   \n",
      "3                    0  210000.00               1.9           137    1   \n",
      "4                    0  327000.00               2.7           116    0   \n",
      "\n",
      "   smoking  time  death_event  id  \n",
      "0        0     4            1   1  \n",
      "1        0     6            1   2  \n",
      "2        1     7            1   3  \n",
      "3        0     7            1   4  \n",
      "4        0     8            1   5  \n",
      "<class 'pandas.core.frame.DataFrame'>\n",
      "299\n",
      "299\n",
      "14\n"
     ]
    }
   ],
   "execution_count": 17
  },
  {
   "cell_type": "markdown",
   "id": "bfb649f1",
   "metadata": {},
   "source": [
    "#### Task 3\n",
    "##### Convert the target to binary if it is not already\n",
    "##### Save the converted data frame as `ex_data` and print its head.\n",
    "##### Print the converted column.\n",
    "#### Result:\n"
   ]
  },
  {
   "cell_type": "code",
   "id": "a0462d7b",
   "metadata": {
    "ExecuteTime": {
     "end_time": "2024-12-11T16:07:49.569365Z",
     "start_time": "2024-12-11T16:07:49.541364Z"
    }
   },
   "source": [
    "# Target not binary - calculate the mean and assign the above mean to 1 and below to 0\n",
    "ex_threshold = np.mean(ex_data['death_event'])\n",
    "ex_data['death_event'] = np.where(ex_data['death_event'] > ex_threshold, 0,1)\n",
    "print(ex_data.head())\n",
    "print(ex_data['death_event'])\n"
   ],
   "outputs": [
    {
     "name": "stdout",
     "output_type": "stream",
     "text": [
      "    age  serum_sodium  time  platelets  ejection_fraction  serum_creatinine  \\\n",
      "0  75.0           130     4  265000.00                 20               1.9   \n",
      "1  55.0           136     6  263358.03                 38               1.1   \n",
      "2  65.0           129     7  162000.00                 20               1.3   \n",
      "3  50.0           137     7  210000.00                 20               1.9   \n",
      "4  65.0           116     8  327000.00                 20               2.7   \n",
      "\n",
      "   creatinine_phosphokinase  anaemia  high_blood_pressure  smoking  sex  \\\n",
      "0                       582        0                    1        0    1   \n",
      "1                      7861        0                    0        0    1   \n",
      "2                       146        0                    0        1    1   \n",
      "3                       111        1                    0        0    1   \n",
      "4                       160        1                    0        0    0   \n",
      "\n",
      "   diabetes  death_event  id  \n",
      "0         0            0   1  \n",
      "1         0            0   2  \n",
      "2         0            0   3  \n",
      "3         0            0   4  \n",
      "4         1            0   5  \n",
      "0      0\n",
      "1      0\n",
      "2      0\n",
      "3      0\n",
      "4      0\n",
      "      ..\n",
      "294    1\n",
      "295    1\n",
      "296    1\n",
      "297    1\n",
      "298    1\n",
      "Name: death_event, Length: 299, dtype: int64\n"
     ]
    }
   ],
   "execution_count": 18
  },
  {
   "cell_type": "markdown",
   "id": "9b04a563",
   "metadata": {},
   "source": [
    "#### Task 4\n",
    "##### Check for NAs in `ex_data`\n",
    "##### Fill NAs in `ex_data` with mean.\n",
    "##### Delete columns containing either 50% or more than 50% NaN Values\n",
    "#### Result:\n"
   ]
  },
  {
   "cell_type": "code",
   "id": "33804353",
   "metadata": {
    "ExecuteTime": {
     "end_time": "2024-12-11T16:07:49.711365Z",
     "start_time": "2024-12-11T16:07:49.687365Z"
    }
   },
   "source": [
    " # Check for NAs. \n",
    "print(ex_data.isnull().sum())\n",
    "ex_percent_missing = ex_data.isnull().sum() * 100 / len(ex_data)\n",
    "print(ex_percent_missing)\n",
    "ex_perc = 50.0\n",
    "ex_min_count =  int(((100-ex_perc)/100)*ex_data.shape[0] + 1)\n",
    "ex_data = ex_data.dropna(axis=1, \n",
    "               thresh=ex_min_count)\n",
    "print(ex_data.shape)\n"
   ],
   "outputs": [
    {
     "name": "stdout",
     "output_type": "stream",
     "text": [
      "age                         0\n",
      "serum_sodium                0\n",
      "time                        0\n",
      "platelets                   0\n",
      "ejection_fraction           0\n",
      "serum_creatinine            0\n",
      "creatinine_phosphokinase    0\n",
      "anaemia                     0\n",
      "high_blood_pressure         0\n",
      "smoking                     0\n",
      "sex                         0\n",
      "diabetes                    0\n",
      "death_event                 0\n",
      "id                          0\n",
      "dtype: int64\n",
      "age                         0.0\n",
      "serum_sodium                0.0\n",
      "time                        0.0\n",
      "platelets                   0.0\n",
      "ejection_fraction           0.0\n",
      "serum_creatinine            0.0\n",
      "creatinine_phosphokinase    0.0\n",
      "anaemia                     0.0\n",
      "high_blood_pressure         0.0\n",
      "smoking                     0.0\n",
      "sex                         0.0\n",
      "diabetes                    0.0\n",
      "death_event                 0.0\n",
      "id                          0.0\n",
      "dtype: float64\n",
      "(299, 14)\n"
     ]
    }
   ],
   "execution_count": 19
  },
  {
   "cell_type": "markdown",
   "id": "1f29d573",
   "metadata": {},
   "source": [
    "#### Task 5\n",
    "##### Write a function to impute NA in both numeric and categorical columns\n",
    "##### Use the function to impute NA\n",
    "#### Result:\n"
   ]
  },
  {
   "cell_type": "code",
   "id": "f3900450",
   "metadata": {
    "ExecuteTime": {
     "end_time": "2024-12-11T16:07:49.806370Z",
     "start_time": "2024-12-11T16:07:49.780367Z"
    }
   },
   "source": [
    "def fillna(df):\n",
    "    numerics = ['int16', 'int32', 'int64', 'float16', 'float32', 'float64']\n",
    "    df_numeric = df.select_dtypes(include=numerics)\n",
    "    df_non_numeric = df.select_dtypes(exclude=numerics)\n",
    "    df_numeric = df_numeric.fillna(df_numeric.mean())\n",
    "    for column in df_non_numeric.columns:\n",
    "        df_non_numeric[column].fillna(df_non_numeric[column].mode()[0], inplace=True)\n",
    "    df = pd.concat([df_numeric, df_non_numeric], axis=1)\n",
    "    return df\n",
    "  \n",
    "ex_data = fillna(ex_data)\n"
   ],
   "outputs": [],
   "execution_count": 20
  },
  {
   "cell_type": "markdown",
   "id": "3a005b9f",
   "metadata": {},
   "source": [
    "#### Task 6\n",
    "##### Convert `death_event` to `bool` dtype so that is a binary class\n",
    "#### Result:\n"
   ]
  },
  {
   "cell_type": "code",
   "id": "4db58af8",
   "metadata": {
    "ExecuteTime": {
     "end_time": "2024-12-11T16:07:49.933364Z",
     "start_time": "2024-12-11T16:07:49.920366Z"
    }
   },
   "source": [
    "# Identify the the two unique classes\n",
    "ex_unique_values = sorted(ex_data['death_event'].unique())\n",
    "ex_data['death_event'] = np.where(ex_data['death_event'] == ex_unique_values[0], False,True)\n"
   ],
   "outputs": [],
   "execution_count": 21
  },
  {
   "cell_type": "markdown",
   "id": "9f13e44e",
   "metadata": {},
   "source": [
    "#### Task 7\n",
    "##### Split the data into ex_X and ex_y \n",
    "##### Convert categorical data in ex_X to integer values (Hint: use `get_dummies`)\n",
    "#### Result:\n"
   ]
  },
  {
   "cell_type": "code",
   "id": "b20b598c",
   "metadata": {
    "ExecuteTime": {
     "end_time": "2024-12-11T16:07:49.979371Z",
     "start_time": "2024-12-11T16:07:49.958365Z"
    }
   },
   "source": [
    "ex_columns_to_drop_from_X = ['death_event'] + ['id']\n",
    "ex_X = ex_data.drop(ex_columns_to_drop_from_X, axis = 1)\n",
    "ex_y = np.array(ex_data['death_event'])\n",
    "ex_X = pd.get_dummies(ex_X, columns = ['anaemia', 'high_blood_pressure', 'smoking', 'sex', 'diabetes'], dtype=float, drop_first=True)\n",
    "print(ex_X.dtypes)\n"
   ],
   "outputs": [
    {
     "name": "stdout",
     "output_type": "stream",
     "text": [
      "age                         float64\n",
      "serum_sodium                  int64\n",
      "time                          int64\n",
      "platelets                   float64\n",
      "ejection_fraction             int64\n",
      "serum_creatinine            float64\n",
      "creatinine_phosphokinase      int64\n",
      "anaemia_1                   float64\n",
      "high_blood_pressure_1       float64\n",
      "smoking_1                   float64\n",
      "sex_1                       float64\n",
      "diabetes_1                  float64\n",
      "dtype: object\n"
     ]
    }
   ],
   "execution_count": 22
  },
  {
   "cell_type": "markdown",
   "id": "d14a1b6f",
   "metadata": {},
   "source": [
    "#### Task 8\n",
    "##### Set a seed value\n",
    "##### Split data into train and test \n",
    "##### Scale our X and y predictors separately\n",
    "#### Result:\n"
   ]
  },
  {
   "cell_type": "code",
   "id": "08e45ad3",
   "metadata": {
    "ExecuteTime": {
     "end_time": "2024-12-11T16:07:50.057370Z",
     "start_time": "2024-12-11T16:07:50.030365Z"
    }
   },
   "source": [
    "# Set the seed.\n",
    "np.random.seed(1)\n",
    "# Split into train and test.\n",
    "ex_X_train, ex_X_test, ex_y_train, ex_y_test = train_test_split(ex_X, \n",
    "                                                    ex_y, \n",
    "                                                    test_size = 0.3) \n",
    "# Scale X.\n",
    "ex_X_train = scale(ex_X_train)\n",
    "ex_X_test = scale(ex_X_test)\n"
   ],
   "outputs": [],
   "execution_count": 23
  },
  {
   "cell_type": "markdown",
   "id": "23a66c0b",
   "metadata": {},
   "source": [
    "#### Please refer to module 3 of IntroToClassification - kNN for Tasks 9-13\n",
    "#### Task 9\n",
    "##### Set `default = 5`\n",
    "##### Create kNN classifier\n",
    "##### Fit the classifier to the data\n",
    "##### Predict using the classifier and call it predictions\n",
    "#### Result:\n"
   ]
  },
  {
   "cell_type": "code",
   "id": "2feb585e",
   "metadata": {
    "ExecuteTime": {
     "end_time": "2024-12-11T16:07:50.137371Z",
     "start_time": "2024-12-11T16:07:50.108364Z"
    }
   },
   "source": [
    "# Create kNN classifier.\n",
    "ex_default = 5\n",
    "ex_kNN = KNeighborsClassifier(n_neighbors = ex_default)\n",
    "# Fit the classifier to the data.\n",
    "ex_kNN.fit(ex_X_train, ex_y_train)\n",
    "ex_predictions = ex_kNN.predict(ex_X_test)\n",
    "print(ex_predictions)\n"
   ],
   "outputs": [
    {
     "name": "stdout",
     "output_type": "stream",
     "text": [
      "[ True  True  True  True  True  True  True  True  True  True  True  True\n",
      " False  True  True  True False  True  True  True  True False  True False\n",
      "  True  True  True  True  True  True  True  True  True  True False  True\n",
      "  True  True  True  True False  True  True  True  True False  True  True\n",
      "  True  True  True  True  True False  True  True  True  True  True  True\n",
      "  True  True  True  True  True  True  True False  True False  True  True\n",
      "  True  True  True False False  True  True  True  True  True  True  True\n",
      "  True  True  True  True  True False]\n"
     ]
    }
   ],
   "execution_count": 24
  },
  {
   "cell_type": "markdown",
   "id": "b5dc2131",
   "metadata": {},
   "source": [
    "#### Task 10\n",
    "##### Print the vector of predicted values versus actual values\n",
    "##### function called `confusion_matrix` from `sklearn.metrics` \n",
    "#### Result:\n"
   ]
  },
  {
   "cell_type": "code",
   "id": "add42ebe",
   "metadata": {
    "ExecuteTime": {
     "end_time": "2024-12-11T16:07:50.201368Z",
     "start_time": "2024-12-11T16:07:50.189389Z"
    }
   },
   "source": [
    "ex_actual_v_predicted = np.column_stack((ex_y_test, ex_predictions))\n",
    "print(ex_actual_v_predicted[0:5])\n"
   ],
   "outputs": [
    {
     "name": "stdout",
     "output_type": "stream",
     "text": [
      "[[ True  True]\n",
      " [ True  True]\n",
      " [False  True]\n",
      " [ True  True]\n",
      " [ True  True]]\n"
     ]
    }
   ],
   "execution_count": 25
  },
  {
   "cell_type": "markdown",
   "id": "1bba54e5",
   "metadata": {},
   "source": [
    "#### Task 11\n",
    "##### Print the vector of predicted values versus actual values\n",
    "##### Use function called `confusion_matrix` from `sklearn.metrics` \n",
    "##### Using `accuracy_score` from `sklearn.metrics` calculate the accuracy score\n",
    "#### Result:\n"
   ]
  },
  {
   "cell_type": "code",
   "id": "effc2dac",
   "metadata": {
    "ExecuteTime": {
     "end_time": "2024-12-11T16:07:50.265374Z",
     "start_time": "2024-12-11T16:07:50.252365Z"
    }
   },
   "source": [
    "ex_actual_v_predicted = np.column_stack((ex_y_test, ex_predictions))\n",
    "print(ex_actual_v_predicted[0:5])\n",
    "print(round(accuracy_score(ex_y_test, ex_predictions), 4))\n"
   ],
   "outputs": [
    {
     "name": "stdout",
     "output_type": "stream",
     "text": [
      "[[ True  True]\n",
      " [ True  True]\n",
      " [False  True]\n",
      " [ True  True]\n",
      " [ True  True]]\n",
      "0.7667\n"
     ]
    }
   ],
   "execution_count": 26
  },
  {
   "cell_type": "markdown",
   "id": "95a671d4",
   "metadata": {},
   "source": [
    "#### Task 12\n",
    "##### Create `ex_cm_kNN` a confusion matrix and print it\n",
    "##### Visualize our confusion matrix\n",
    "#### Result:\n"
   ]
  },
  {
   "cell_type": "code",
   "id": "bf150141",
   "metadata": {
    "ExecuteTime": {
     "end_time": "2024-12-11T16:07:50.536370Z",
     "start_time": "2024-12-11T16:07:50.359364Z"
    }
   },
   "source": [
    "ex_cm_kNN = confusion_matrix(ex_y_test, ex_predictions)\n",
    "print(ex_cm_kNN)\n",
    "plt.imshow(ex_cm_kNN, interpolation = 'nearest', cmap = plt.cm.Wistia)\n",
    "classNames = ['Negative', 'Positive']\n",
    "plt.title('Confusion Matrix - Test Data')\n",
    "plt.ylabel('True label')\n",
    "plt.xlabel('Predicted label')\n",
    "tick_marks = np.arange(len(classNames))\n",
    "plt.xticks(tick_marks, classNames, rotation = 45)\n",
    "plt.yticks(tick_marks, classNames)\n",
    "s = [['TN', 'FP'], ['FN', 'TP']]\n",
    "for i in range(2):\n",
    "    for j in range(2):\n",
    "        plt.text(j,i, str(s[i][j]) + \" = \" + str(ex_cm_kNN[i][j]))\n",
    "plt.show()\n"
   ],
   "outputs": [
    {
     "name": "stdout",
     "output_type": "stream",
     "text": [
      "[[ 9 17]\n",
      " [ 4 60]]\n"
     ]
    },
    {
     "data": {
      "text/plain": [
       "<Figure size 640x480 with 1 Axes>"
      ],
      "image/png": "[encoded data removed]"
     },
     "metadata": {},
     "output_type": "display_data"
    }
   ],
   "execution_count": 27
  },
  {
   "metadata": {
    "ExecuteTime": {
     "end_time": "2024-12-11T17:22:00.681946Z",
     "start_time": "2024-12-11T17:22:00.410949Z"
    }
   },
   "cell_type": "code",
   "source": [
    "import numpy as np\n",
    "import seaborn as sns\n",
    "import matplotlib.pyplot as plt\n",
    "from sklearn.metrics import confusion_matrix\n",
    "\n",
    "# Example true and predicted labels\n",
    "# y_true = [0, 1, 0, 1, 0, 1, 1, 0, 0, 1]  # True labels\n",
    "# y_pred = [0, 1, 0, 1, 0, 0, 1, 0, 1, 1]  # Predicted labels\n",
    "\n",
    "# Generate the confusion matrix\n",
    "cm = confusion_matrix(ex_y_test, ex_predictions)\n",
    "\n",
    "# Create a heatmap using Seaborn\n",
    "sns.heatmap(cm, annot=True, fmt='d', cmap='Blues', xticklabels=['Neg', 'Pos'], yticklabels=['Neg', 'Pos'])\n",
    "\n",
    "# Add labels, title, and formatting\n",
    "plt.xlabel('Predicted Labels')\n",
    "plt.ylabel('True Labels')\n",
    "plt.title('Confusion Matrix')\n",
    "plt.show()\n"
   ],
   "id": "432a05adcb712a3",
   "outputs": [
    {
     "data": {
      "text/plain": [
       "<Figure size 640x480 with 2 Axes>"
      ],
      "image/png": "[encoded data removed]"
     },
     "metadata": {},
     "output_type": "display_data"
    }
   ],
   "execution_count": 39
  },
  {
   "cell_type": "markdown",
   "id": "5555dee0",
   "metadata": {},
   "source": [
    "#### Task 13\n",
    "##### Plot the ROC for our model\n",
    "##### Calculate the AUC\n",
    "#### Result:\n"
   ]
  },
  {
   "cell_type": "code",
   "id": "954c0411",
   "metadata": {
    "ExecuteTime": {
     "end_time": "2024-12-11T16:07:50.821365Z",
     "start_time": "2024-12-11T16:07:50.588365Z"
    }
   },
   "source": [
    "# Store FPR, TPR, and threshold as variables.\n",
    "ex_fpr, ex_tpr, ex_threshold = metrics.roc_curve(ex_y_test, ex_predictions)\n",
    "# Store the AUC.\n",
    "ex_roc_auc = metrics.auc(ex_fpr, ex_tpr)\n",
    "# Plot ROC\n",
    "plt.title('Receiver Operating Characteristic')\n",
    "plt.plot(ex_fpr, ex_tpr, 'b', label = 'AUC = %0.2f' % ex_roc_auc)\n",
    "plt.legend(loc = 'lower right')\n",
    "plt.plot([0, 1], [0, 1],'r--')\n",
    "plt.xlim([0, 1])\n",
    "plt.ylim([0, 1])\n",
    "plt.ylabel('True Positive Rate')\n",
    "plt.xlabel('False Positive Rate')\n",
    "plt.show()\n"
   ],
   "outputs": [
    {
     "data": {
      "text/plain": [
       "<Figure size 640x480 with 1 Axes>"
      ],
      "image/png": "[encoded data removed]"
     },
     "metadata": {},
     "output_type": "display_data"
    }
   ],
   "execution_count": 28
  },
  {
   "cell_type": "markdown",
   "id": "203d7f71",
   "metadata": {},
   "source": [
    "#### Please refer to module 4 of IntroToClassification - kNN for Task 14\n",
    "#### Task 14\n",
    "##### Create a pipeline of the scaler and Estimator\n",
    "##### Calculate cv scores and print the mean\n",
    "#### Result:\n"
   ]
  },
  {
   "cell_type": "code",
   "id": "75077aa0",
   "metadata": {
    "ExecuteTime": {
     "end_time": "2024-12-11T16:07:50.996365Z",
     "start_time": "2024-12-11T16:07:50.872364Z"
    }
   },
   "source": [
    "# Create a pipeline of the scaler and Estimator\n",
    "ex_cv_pipeline = Pipeline([('transformer',  StandardScaler()), ('estimator', ex_kNN)])\n",
    "ex_cv_scores = cross_val_score(ex_cv_pipeline, ex_X, ex_y, cv = 5)\n",
    "print(ex_cv_scores)\n",
    "print(\"cv_scores mean:{}\".format(np.mean(ex_cv_scores)))\n",
    "ex_mean = np.mean(ex_cv_scores)\n",
    "print(\"Optimal cv score is:\", round(ex_mean, 4))\n"
   ],
   "outputs": [
    {
     "name": "stdout",
     "output_type": "stream",
     "text": [
      "[0.71666667 0.78333333 0.71666667 0.73333333 0.69491525]\n",
      "cv_scores mean:0.7289830508474576\n",
      "Optimal cv score is: 0.729\n"
     ]
    }
   ],
   "execution_count": 29
  },
  {
   "cell_type": "markdown",
   "id": "7e861017",
   "metadata": {},
   "source": [
    "#### Please refer to module 5 of IntroToClassification - kNN for Tasks 15-19\n",
    "#### Task 15\n",
    "#####  Define the parameter values between 1 and 31 that should be searched as `k_range`\n",
    "##### Create a parameter grid: map the parameter names to the values that should be searched by building a Python dictionary. \n",
    "##### Instantiate the grid using our original model - kNN with k and call it as `grid`\n",
    "#### Result:\n"
   ]
  },
  {
   "cell_type": "code",
   "id": "7aebe66a",
   "metadata": {
    "ExecuteTime": {
     "end_time": "2024-12-11T16:07:51.060365Z",
     "start_time": "2024-12-11T16:07:51.047364Z"
    }
   },
   "source": [
    "# Define the parameter values that should be searched.\n",
    "ex_k_range = list(range(1, 31))\n",
    "# Create a parameter grid: map the parameter names to the values that should be searched by building a Python dictionary.\n",
    "ex_param_grid = dict(n_neighbors = ex_k_range)\n",
    "print(ex_param_grid)\n",
    "# Instantiate the grid using our original model - kNN with k.\n",
    "ex_grid = GridSearchCV(ex_kNN, ex_param_grid, cv = 10, scoring = 'accuracy')\n"
   ],
   "outputs": [
    {
     "name": "stdout",
     "output_type": "stream",
     "text": [
      "{'n_neighbors': [1, 2, 3, 4, 5, 6, 7, 8, 9, 10, 11, 12, 13, 14, 15, 16, 17, 18, 19, 20, 21, 22, 23, 24, 25, 26, 27, 28, 29, 30]}\n"
     ]
    }
   ],
   "execution_count": 30
  },
  {
   "cell_type": "markdown",
   "id": "81d19e7a",
   "metadata": {},
   "source": [
    "#### Task 16\n",
    "##### Create a pipeline of the scaler and gridsearch as `grid_search_pipeline`\n",
    "##### Fit Gridsearch pipeline\n",
    "##### Print the complete results (list of named tuples).\n",
    "#### Result:\n"
   ]
  },
  {
   "cell_type": "code",
   "id": "861ed697",
   "metadata": {
    "ExecuteTime": {
     "end_time": "2024-12-11T16:07:53.954365Z",
     "start_time": "2024-12-11T16:07:51.126370Z"
    }
   },
   "source": [
    "# Create a pipeline of the scaler and gridsearch\n",
    "ex_grid_search_pipeline = Pipeline([('transformer',  StandardScaler()), ('estimator', ex_grid)])\n",
    "# Fit Gridsearch pipeline\n",
    "ex_grid_search_pipeline.fit(ex_X, ex_y)\n",
    "# View the complete results (list of named tuples).\n",
    "print(ex_grid.cv_results_['mean_test_score'])\n"
   ],
   "outputs": [
    {
     "name": "stdout",
     "output_type": "stream",
     "text": [
      "[0.65229885 0.6454023  0.70908046 0.72908046 0.74574713 0.75574713\n",
      " 0.74908046 0.75241379 0.73908046 0.74241379 0.74574713 0.75574713\n",
      " 0.72908046 0.75241379 0.73574713 0.75241379 0.73908046 0.74908046\n",
      " 0.74241379 0.76241379 0.73241379 0.75908046 0.73896552 0.74574713\n",
      " 0.73896552 0.73908046 0.73574713 0.73908046 0.74229885 0.73563218]\n"
     ]
    }
   ],
   "execution_count": 31
  },
  {
   "cell_type": "markdown",
   "id": "89849496",
   "metadata": {},
   "source": [
    "#### Task 17\n",
    "##### Create a list of the mean scores only by using a list comprehension to loop through grid.cv_results_ and print it.\n",
    "##### Plot optimal k - plot, by plotting k_range with grid_mean_scores\n",
    "#### Result:\n"
   ]
  },
  {
   "cell_type": "code",
   "id": "0823c39a",
   "metadata": {
    "ExecuteTime": {
     "end_time": "2024-12-11T16:07:54.368367Z",
     "start_time": "2024-12-11T16:07:54.120365Z"
    }
   },
   "source": [
    "ex_grid_mean_scores = [result for result in ex_grid.cv_results_['mean_test_score']]\n",
    "print(ex_grid_mean_scores)\n",
    "# Plot the results.\n",
    "plt.plot(ex_k_range, ex_grid_mean_scores)\n",
    "plt.xlabel('Value of K for kNN')\n",
    "plt.ylabel('Cross-Validated Accuracy')\n",
    "plt.show()\n"
   ],
   "outputs": [
    {
     "name": "stdout",
     "output_type": "stream",
     "text": [
      "[np.float64(0.6522988505747126), np.float64(0.6454022988505747), np.float64(0.7090804597701149), np.float64(0.729080459770115), np.float64(0.7457471264367816), np.float64(0.7557471264367817), np.float64(0.749080459770115), np.float64(0.7524137931034482), np.float64(0.739080459770115), np.float64(0.7424137931034483), np.float64(0.7457471264367816), np.float64(0.7557471264367817), np.float64(0.7290804597701149), np.float64(0.7524137931034482), np.float64(0.7357471264367816), np.float64(0.7524137931034482), np.float64(0.739080459770115), np.float64(0.749080459770115), np.float64(0.7424137931034483), np.float64(0.7624137931034483), np.float64(0.7324137931034483), np.float64(0.7590804597701151), np.float64(0.7389655172413793), np.float64(0.7457471264367816), np.float64(0.7389655172413793), np.float64(0.739080459770115), np.float64(0.7357471264367816), np.float64(0.739080459770115), np.float64(0.7422988505747126), np.float64(0.735632183908046)]\n"
     ]
    },
    {
     "data": {
      "text/plain": [
       "<Figure size 640x480 with 1 Axes>"
      ],
      "image/png": "[encoded data removed]"
     },
     "metadata": {},
     "output_type": "display_data"
    }
   ],
   "execution_count": 32
  },
  {
   "cell_type": "markdown",
   "id": "3f8e310c",
   "metadata": {},
   "source": [
    "#### Task 18\n",
    "##### Print the vector of predicted values versus actual values\n",
    "##### function called `confusion_matrix` from `sklearn.metrics` \n",
    "#### Result:\n"
   ]
  },
  {
   "cell_type": "code",
   "id": "f869095f",
   "metadata": {
    "ExecuteTime": {
     "end_time": "2024-12-11T16:07:54.525366Z",
     "start_time": "2024-12-11T16:07:54.514365Z"
    }
   },
   "source": [
    "ex_actual_v_predicted = np.column_stack((ex_y_test, ex_predictions))\n",
    "print(ex_actual_v_predicted[0:5])\n"
   ],
   "outputs": [
    {
     "name": "stdout",
     "output_type": "stream",
     "text": [
      "[[ True  True]\n",
      " [ True  True]\n",
      " [False  True]\n",
      " [ True  True]\n",
      " [ True  True]]\n"
     ]
    }
   ],
   "execution_count": 33
  },
  {
   "cell_type": "markdown",
   "id": "0b5ceafc",
   "metadata": {},
   "source": [
    "#### Task 19\n",
    "##### Print the single best score achieved across all params (k).\n",
    "##### Print the dictionary containing the parameters (k) used to generate that score.\n",
    "##### Actual model object fit with those best parameters (Hint: use best_estimator_)\n",
    "#### Result:\n"
   ]
  },
  {
   "cell_type": "code",
   "id": "d72d7609",
   "metadata": {
    "ExecuteTime": {
     "end_time": "2024-12-11T16:07:54.589364Z",
     "start_time": "2024-12-11T16:07:54.566364Z"
    }
   },
   "source": [
    "# Single best score achieved across all params (k).\n",
    "print(ex_grid.best_score_)\n",
    "# Dictionary containing the parameters (k) used to generate that score.\n",
    "print(ex_grid.best_params_)\n",
    "# Actual model object fit with those best parameters.\n",
    "# Shows default parameters that we did not specify.\n",
    "print(ex_grid.best_estimator_)\n"
   ],
   "outputs": [
    {
     "name": "stdout",
     "output_type": "stream",
     "text": [
      "0.7624137931034483\n",
      "{'n_neighbors': 20}\n",
      "KNeighborsClassifier(n_neighbors=20)\n"
     ]
    }
   ],
   "execution_count": 34
  },
  {
   "metadata": {},
   "cell_type": "code",
   "outputs": [],
   "execution_count": null,
   "source": [
    "# pickle the model (serialize)\n",
    "\n",
    "pickle.dump()"
   ],
   "id": "7415d7a3849c1ac0"
  }
 ],
 "metadata": {
  "language": "python",
  "kernelspec": {
   "name": "python3",
   "language": "python",
   "display_name": "Python 3 (ipykernel)"
  }
 },
 "nbformat": 4,
 "nbformat_minor": 5
}
